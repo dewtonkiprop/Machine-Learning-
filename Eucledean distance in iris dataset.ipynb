{
 "cells": [
  {
   "cell_type": "code",
   "execution_count": null,
   "id": "c75a7168-14be-400a-b97b-11078e8a104d",
   "metadata": {},
   "outputs": [],
   "source": [
    "\n",
    "#DEWTON KIPROP 20/02861\n"
   ]
  },
  {
   "cell_type": "code",
   "execution_count": 7,
   "id": "ba9b9f69-3d95-4714-bd52-d68d264ed970",
   "metadata": {},
   "outputs": [
    {
     "data": {
      "text/html": [
       "<div>\n",
       "<style scoped>\n",
       "    .dataframe tbody tr th:only-of-type {\n",
       "        vertical-align: middle;\n",
       "    }\n",
       "\n",
       "    .dataframe tbody tr th {\n",
       "        vertical-align: top;\n",
       "    }\n",
       "\n",
       "    .dataframe thead th {\n",
       "        text-align: right;\n",
       "    }\n",
       "</style>\n",
       "<table border=\"1\" class=\"dataframe\">\n",
       "  <thead>\n",
       "    <tr style=\"text-align: right;\">\n",
       "      <th></th>\n",
       "      <th>Id</th>\n",
       "      <th>SepalLengthCm</th>\n",
       "      <th>SepalWidthCm</th>\n",
       "      <th>PetalLengthCm</th>\n",
       "      <th>PetalWidthCm</th>\n",
       "      <th>Species</th>\n",
       "    </tr>\n",
       "  </thead>\n",
       "  <tbody>\n",
       "    <tr>\n",
       "      <th>0</th>\n",
       "      <td>1</td>\n",
       "      <td>5.1</td>\n",
       "      <td>3.5</td>\n",
       "      <td>1.4</td>\n",
       "      <td>0.2</td>\n",
       "      <td>Iris-setosa</td>\n",
       "    </tr>\n",
       "    <tr>\n",
       "      <th>1</th>\n",
       "      <td>2</td>\n",
       "      <td>4.9</td>\n",
       "      <td>3.0</td>\n",
       "      <td>1.4</td>\n",
       "      <td>0.2</td>\n",
       "      <td>Iris-setosa</td>\n",
       "    </tr>\n",
       "    <tr>\n",
       "      <th>2</th>\n",
       "      <td>3</td>\n",
       "      <td>4.7</td>\n",
       "      <td>3.2</td>\n",
       "      <td>1.3</td>\n",
       "      <td>0.2</td>\n",
       "      <td>Iris-setosa</td>\n",
       "    </tr>\n",
       "    <tr>\n",
       "      <th>3</th>\n",
       "      <td>4</td>\n",
       "      <td>4.6</td>\n",
       "      <td>3.1</td>\n",
       "      <td>1.5</td>\n",
       "      <td>0.2</td>\n",
       "      <td>Iris-setosa</td>\n",
       "    </tr>\n",
       "    <tr>\n",
       "      <th>4</th>\n",
       "      <td>5</td>\n",
       "      <td>5.0</td>\n",
       "      <td>3.6</td>\n",
       "      <td>1.4</td>\n",
       "      <td>0.2</td>\n",
       "      <td>Iris-setosa</td>\n",
       "    </tr>\n",
       "  </tbody>\n",
       "</table>\n",
       "</div>"
      ],
      "text/plain": [
       "   Id  SepalLengthCm  SepalWidthCm  PetalLengthCm  PetalWidthCm      Species\n",
       "0   1            5.1           3.5            1.4           0.2  Iris-setosa\n",
       "1   2            4.9           3.0            1.4           0.2  Iris-setosa\n",
       "2   3            4.7           3.2            1.3           0.2  Iris-setosa\n",
       "3   4            4.6           3.1            1.5           0.2  Iris-setosa\n",
       "4   5            5.0           3.6            1.4           0.2  Iris-setosa"
      ]
     },
     "execution_count": 7,
     "metadata": {},
     "output_type": "execute_result"
    }
   ],
   "source": [
    "#Displaying the data frame\n",
    "import pandas as pd\n",
    "import numpy as np\n",
    "from sklearn.model_selection import train_test_split\n",
    "from sklearn.tree import DecisionTreeClassifier\n",
    "from sklearn.metrics import accuracy_score\n",
    "from sklearn import tree\n",
    "\n",
    "df=pd.read_csv('/home/coderic/Documents/Iris.csv')\n",
    "df.head()"
   ]
  },
  {
   "cell_type": "code",
   "execution_count": 4,
   "id": "67d1b97d-d75b-4b19-9adf-e16b179bd067",
   "metadata": {},
   "outputs": [
    {
     "name": "stdout",
     "output_type": "stream",
     "text": [
      "Distance to observation 1: 0.4123\n",
      "Distance to observation 2: 0.3162\n",
      "Distance to observation 3: 0.5099\n",
      "Distance to observation 4: 0.6000\n",
      "Distance to observation 5: 0.5385\n"
     ]
    }
   ],
   "source": [
    "import numpy as np\n",
    "\n",
    "# Define the previous observations (SepalLengthCm, SepalWidthCm)\n",
    "previous_observations = np.array([\n",
    "    [5.1, 3.5],\n",
    "    [4.9, 3.0],\n",
    "    [4.7, 3.2],\n",
    "    [4.6, 3.1],\n",
    "    [5.0, 3.6]\n",
    "])\n",
    "\n",
    "# Define the new observation\n",
    "new_observation = np.array([5.2, 3.1])\n",
    "\n",
    "# Function to calculate Euclidean distance\n",
    "def euclidean_distance(point1, point2):\n",
    "    return np.sqrt(np.sum((point1 - point2) ** 2))\n",
    "\n",
    "# Calculate Euclidean distance for each previous observation\n",
    "distances = [euclidean_distance(new_observation, obs) for obs in previous_observations]\n",
    "\n",
    "# Print the distances\n",
    "for i, distance in enumerate(distances, start=1):\n",
    "    print(f\"Distance to observation {i}: {distance:.4f}\")\n"
   ]
  },
  {
   "cell_type": "code",
   "execution_count": 5,
   "id": "34e46535-8a39-4030-9193-15de94f30681",
   "metadata": {},
   "outputs": [
    {
     "name": "stdout",
     "output_type": "stream",
     "text": [
      "Rank 1: Distance to observation 2: 0.3162\n",
      "Rank 2: Distance to observation 1: 0.4123\n",
      "Rank 3: Distance to observation 3: 0.5099\n",
      "Rank 4: Distance to observation 5: 0.5385\n",
      "Rank 5: Distance to observation 4: 0.6000\n"
     ]
    }
   ],
   "source": [
    "import numpy as np\n",
    "\n",
    "# Define the previous observations (SepalLengthCm, SepalWidthCm)\n",
    "previous_observations = np.array([\n",
    "    [5.1, 3.5],\n",
    "    [4.9, 3.0],\n",
    "    [4.7, 3.2],\n",
    "    [4.6, 3.1],\n",
    "    [5.0, 3.6]\n",
    "])\n",
    "\n",
    "# Define the new observation\n",
    "new_observation = np.array([5.2, 3.1])\n",
    "\n",
    "# Function to calculate Euclidean distance\n",
    "def euclidean_distance(point1, point2):\n",
    "    return np.sqrt(np.sum((point1 - point2) ** 2))\n",
    "\n",
    "# Calculate Euclidean distance for each previous observation\n",
    "distances = [euclidean_distance(new_observation, obs) for obs in previous_observations]\n",
    "\n",
    "# Rank the distances from nearest to furthest\n",
    "ranked_indices = np.argsort(distances)\n",
    "\n",
    "# Print the ranked distances\n",
    "for rank, idx in enumerate(ranked_indices, start=1):\n",
    "    distance = distances[idx]\n",
    "    print(f\"Rank {rank}: Distance to observation {idx + 1}: {distance:.4f}\")\n"
   ]
  },
  {
   "cell_type": "code",
   "execution_count": 8,
   "id": "f87526a2-9e7d-4e17-821a-6422554dc3de",
   "metadata": {},
   "outputs": [
    {
     "name": "stdout",
     "output_type": "stream",
     "text": [
      "Predicted species for the new observation: Iris-setosa\n"
     ]
    }
   ],
   "source": [
    "import numpy as np\n",
    "from sklearn.preprocessing import LabelEncoder\n",
    "\n",
    "# Define the previous observations (SepalLengthCm, SepalWidthCm)\n",
    "previous_observations = np.array([\n",
    "    [5.1, 3.5],\n",
    "    [4.9, 3.0],\n",
    "    [4.7, 3.2],\n",
    "    [4.6, 3.1],\n",
    "    [5.0, 3.6]\n",
    "])\n",
    "\n",
    "# Corresponding species for the previous observations\n",
    "previous_species = np.array([\n",
    "    'Iris-setosa',\n",
    "    'Iris-setosa',\n",
    "    'Iris-setosa',\n",
    "    'Iris-setosa',\n",
    "    'Iris-setosa'\n",
    "])\n",
    "\n",
    "# Use LabelEncoder to encode string labels to integer labels\n",
    "label_encoder = LabelEncoder()\n",
    "previous_species_encoded = label_encoder.fit_transform(previous_species)\n",
    "\n",
    "# Define the new observation\n",
    "new_observation = np.array([5.2, 3.1])\n",
    "\n",
    "# Function to calculate Euclidean distance\n",
    "def euclidean_distance(point1, point2):\n",
    "    return np.sqrt(np.sum((point1 - point2) ** 2))\n",
    "\n",
    "# Function to classify new observation using k nearest neighbors\n",
    "def knn_classify(X_train, y_train, x_new, k):\n",
    "    distances = [euclidean_distance(x_new, x) for x in X_train]\n",
    "    nearest_indices = np.argsort(distances)[:k]\n",
    "    nearest_labels = y_train[nearest_indices]\n",
    "    nearest_species_count = np.bincount(nearest_labels)\n",
    "    predicted_species_idx = np.argmax(nearest_species_count)\n",
    "    return predicted_species_idx\n",
    "\n",
    "# Classify the new observation using k=3\n",
    "k = 3\n",
    "predicted_species_idx = knn_classify(previous_observations, previous_species_encoded, new_observation, k)\n",
    "\n",
    "# Decode the predicted label back to original string label\n",
    "predicted_species = label_encoder.inverse_transform([predicted_species_idx])\n",
    "\n",
    "print(\"Predicted species for the new observation:\", predicted_species[0])\n",
    "\n"
   ]
  }
 ],
 "metadata": {
  "kernelspec": {
   "display_name": "Python 3 (ipykernel)",
   "language": "python",
   "name": "python3"
  },
  "language_info": {
   "codemirror_mode": {
    "name": "ipython",
    "version": 3
   },
   "file_extension": ".py",
   "mimetype": "text/x-python",
   "name": "python",
   "nbconvert_exporter": "python",
   "pygments_lexer": "ipython3",
   "version": "3.11.5"
  }
 },
 "nbformat": 4,
 "nbformat_minor": 5
}
